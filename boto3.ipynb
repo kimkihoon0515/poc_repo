{
 "cells": [
  {
   "cell_type": "code",
   "execution_count": 1,
   "id": "28cb92a1-3a4c-405f-aaad-36ae2031c873",
   "metadata": {},
   "outputs": [],
   "source": [
    "import boto3"
   ]
  },
  {
   "cell_type": "code",
   "execution_count": 54,
   "id": "c1ed49a1-172c-4167-a580-cc00815c6700",
   "metadata": {
    "tags": []
   },
   "outputs": [
    {
     "name": "stderr",
     "output_type": "stream",
     "text": [
      "/usr/local/lib/python3.8/dist-packages/urllib3/connectionpool.py:1045: InsecureRequestWarning: Unverified HTTPS request is being made to host '10.12.54.21'. Adding certificate verification is strongly advised. See: https://urllib3.readthedocs.io/en/1.26.x/advanced-usage.html#ssl-warnings\n",
      "  warnings.warn(\n"
     ]
    },
    {
     "data": {
      "text/plain": [
       "{'ResponseMetadata': {'HTTPStatusCode': 200,\n",
       "  'HTTPHeaders': {'date': 'Sun, 18 Jun 2023 04:46:39 GMT',\n",
       "   'content-type': 'application/xml',\n",
       "   'transfer-encoding': 'chunked',\n",
       "   'server': 'Qumulo'},\n",
       "  'RetryAttempts': 0},\n",
       " 'Buckets': [{'Name': 'test1',\n",
       "   'CreationDate': datetime.datetime(2023, 6, 15, 12, 58, 10, 714000, tzinfo=tzlocal())},\n",
       "  {'Name': 'test2',\n",
       "   'CreationDate': datetime.datetime(2023, 6, 15, 14, 8, 8, 191000, tzinfo=tzlocal())},\n",
       "  {'Name': 'test3',\n",
       "   'CreationDate': datetime.datetime(2023, 6, 15, 14, 9, 31, 899000, tzinfo=tzlocal())},\n",
       "  {'Name': 'test4',\n",
       "   'CreationDate': datetime.datetime(2023, 6, 16, 3, 53, 1, 149000, tzinfo=tzlocal())},\n",
       "  {'Name': 'test5',\n",
       "   'CreationDate': datetime.datetime(2023, 6, 17, 13, 28, 24, 771000, tzinfo=tzlocal())},\n",
       "  {'Name': 'test10',\n",
       "   'CreationDate': datetime.datetime(2023, 6, 17, 15, 44, 55, 408000, tzinfo=tzlocal())},\n",
       "  {'Name': 'abcd',\n",
       "   'CreationDate': datetime.datetime(2023, 6, 17, 16, 19, 53, 736000, tzinfo=tzlocal())}]}"
      ]
     },
     "execution_count": 54,
     "metadata": {},
     "output_type": "execute_result"
    }
   ],
   "source": [
    "AWS_ACCESS_KEY = \"00000000000001f46e81\"\n",
    "AWS_SECRET_KEY = \"aPc5LK7JtpM7oCuj/kB18If8xNIcuds4n7Sw3Akl\"\n",
    "endpoint_url = \"https://10.12.54.21:9000\"\n",
    "\n",
    "s3 = boto3.client(\"s3\",\n",
    "                endpoint_url=endpoint_url,\n",
    "                aws_access_key_id=AWS_ACCESS_KEY,\n",
    "                  aws_secret_access_key=AWS_SECRET_KEY,\n",
    "                  verify=False\n",
    "                 )\n",
    "s3.list_buckets()"
   ]
  },
  {
   "cell_type": "code",
   "execution_count": 44,
   "id": "368a2ed4-027e-43fe-8eab-3f9f3fb740a9",
   "metadata": {
    "tags": []
   },
   "outputs": [
    {
     "name": "stderr",
     "output_type": "stream",
     "text": [
      "/usr/local/lib/python3.8/dist-packages/urllib3/connectionpool.py:1045: InsecureRequestWarning: Unverified HTTPS request is being made to host '10.12.54.21'. Adding certificate verification is strongly advised. See: https://urllib3.readthedocs.io/en/1.26.x/advanced-usage.html#ssl-warnings\n",
      "  warnings.warn(\n"
     ]
    }
   ],
   "source": [
    "file_name = \"test.txt\"\n",
    "bucket=\"test1\"\n",
    "Key='test.txt'\n",
    "\n",
    "res = s3.upload_file(file_name,bucket,Key)"
   ]
  },
  {
   "cell_type": "code",
   "execution_count": 58,
   "id": "980d46a7-121c-4336-9317-632053ec0c49",
   "metadata": {
    "tags": []
   },
   "outputs": [
    {
     "name": "stderr",
     "output_type": "stream",
     "text": [
      "/usr/local/lib/python3.8/dist-packages/urllib3/connectionpool.py:1045: InsecureRequestWarning: Unverified HTTPS request is being made to host '10.12.54.21'. Adding certificate verification is strongly advised. See: https://urllib3.readthedocs.io/en/1.26.x/advanced-usage.html#ssl-warnings\n",
      "  warnings.warn(\n"
     ]
    },
    {
     "data": {
      "text/plain": [
       "{'ResponseMetadata': {'HTTPStatusCode': 200,\n",
       "  'HTTPHeaders': {'date': 'Sun, 18 Jun 2023 09:59:22 GMT',\n",
       "   'content-type': 'application/xml',\n",
       "   'content-length': '315',\n",
       "   'server': 'Qumulo'},\n",
       "  'RetryAttempts': 0},\n",
       " 'IsTruncated': False,\n",
       " 'Marker': '',\n",
       " 'Contents': [{'Key': 'test.txt',\n",
       "   'LastModified': datetime.datetime(2023, 6, 17, 16, 47, 31, 591000, tzinfo=tzlocal()),\n",
       "   'ETag': '\"-nMRAQAAAAAAAwAAAAAAAAA\"',\n",
       "   'Size': 6}],\n",
       " 'Name': 'test1',\n",
       " 'Prefix': '',\n",
       " 'MaxKeys': 1000,\n",
       " 'EncodingType': 'url'}"
      ]
     },
     "execution_count": 58,
     "metadata": {},
     "output_type": "execute_result"
    }
   ],
   "source": [
    "s3.list_objects(Bucket='test1')"
   ]
  }
 ],
 "metadata": {
  "kernelspec": {
   "display_name": "Python 3 (ipykernel)",
   "language": "python",
   "name": "python3"
  },
  "language_info": {
   "codemirror_mode": {
    "name": "ipython",
    "version": 3
   },
   "file_extension": ".py",
   "mimetype": "text/x-python",
   "name": "python",
   "nbconvert_exporter": "python",
   "pygments_lexer": "ipython3",
   "version": "3.8.10"
  }
 },
 "nbformat": 4,
 "nbformat_minor": 5
}
