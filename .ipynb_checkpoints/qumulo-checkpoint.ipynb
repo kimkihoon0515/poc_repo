{
 "cells": [
  {
   "cell_type": "code",
   "execution_count": 173,
   "id": "37a8d98a-20ec-463f-a714-622bc15b2c95",
   "metadata": {
    "tags": []
   },
   "outputs": [],
   "source": [
    "import qumulo\n",
    "import os\n",
    "import io\n",
    "import glob\n",
    "import re\n",
    "import time\n",
    "from datetime import datetime\n",
    "import dateutil.parser as date_parser\n",
    "from qumulo.rest_client import RestClient\n",
    "import pprint"
   ]
  },
  {
   "cell_type": "markdown",
   "id": "6bb11c42-13af-4da9-9196-e477ba76f75f",
   "metadata": {},
   "source": [
    "# Client"
   ]
  },
  {
   "cell_type": "code",
   "execution_count": 174,
   "id": "e7e51248-4b7d-4ea8-b7d2-2cec09971a8b",
   "metadata": {
    "tags": []
   },
   "outputs": [],
   "source": [
    "API_HOSTNAME = os.environ['API_HOSTNAME'] if 'API_HOSTNAME' in os.environ else '10.12.54.21'\n",
    "API_USER = os.environ['API_USER'] if 'API_USER' in os.environ else 'admin'\n",
    "API_PASSWORD = os.environ['API_PASSWORD'] if 'API_PASSWORD' in os.environ else 'P@ssw0rd'"
   ]
  },
  {
   "cell_type": "code",
   "execution_count": 175,
   "id": "c47d6788-a2cc-4530-bcf2-27281ad00b22",
   "metadata": {
    "tags": []
   },
   "outputs": [
    {
     "data": {
      "text/plain": [
       "{'block_size_bytes': 4096,\n",
       " 'total_size_bytes': '77491947438080',\n",
       " 'free_size_bytes': '77489711497216',\n",
       " 'snapshot_size_bytes': '0'}"
      ]
     },
     "execution_count": 175,
     "metadata": {},
     "output_type": "execute_result"
    }
   ],
   "source": [
    "from qumulo.rest_client import RestClient\n",
    "\n",
    "rc = RestClient('10.12.54.21',8000)\n",
    "rc.login('admin','P@ssw0rd')\n",
    "\n",
    "rc.fs.read_fs_stats()"
   ]
  },
  {
   "cell_type": "code",
   "execution_count": 176,
   "id": "51bba228-f306-45a2-b2ed-6ee40b12d0ce",
   "metadata": {
    "tags": []
   },
   "outputs": [
    {
     "name": "stdout",
     "output_type": "stream",
     "text": [
      "{'id': 1, 'node_status': 'online', 'node_name': 'qumulo-HD-1', 'uuid': 'cabeaae8-2d0c-4201-8620-572049b97605', 'label': '88:e9:a4:20:26:ca', 'model_number': 'HPE34T_DL325_G10Plus', 'serial_number': 'SGH139YVBG', 'mac_address': '88:e9:a4:20:26:ca'}\n",
      "{'id': 2, 'node_status': 'online', 'node_name': 'qumulo-HD-2', 'uuid': '77bb97ef-f5ef-4084-a416-741907e68afe', 'label': '88:e9:a4:20:66:ea', 'model_number': 'HPE34T_DL325_G10Plus', 'serial_number': 'SGH139YVBT', 'mac_address': '88:e9:a4:20:66:ea'}\n",
      "{'id': 3, 'node_status': 'online', 'node_name': 'qumulo-HD-3', 'uuid': '58dd5459-c105-4ef0-9737-5a20410763d9', 'label': '88:e9:a4:20:66:72', 'model_number': 'HPE34T_DL325_G10Plus', 'serial_number': 'SGH139YVC5', 'mac_address': '88:e9:a4:20:66:72'}\n",
      "{'id': 4, 'node_status': 'online', 'node_name': 'qumulo-HD-4', 'uuid': 'acedd1b5-1151-4608-9f66-68f7826d4422', 'label': '88:e9:a4:20:36:22', 'model_number': 'HPE34T_DL325_G10Plus', 'serial_number': 'SGH139YVB3', 'mac_address': '88:e9:a4:20:36:22'}\n"
     ]
    }
   ],
   "source": [
    "all_nodes = rc.cluster.list_nodes()\n",
    "for node in all_nodes:\n",
    "    print(node)"
   ]
  },
  {
   "cell_type": "code",
   "execution_count": 177,
   "id": "522fb5ab-3143-4183-b925-860705a36dcb",
   "metadata": {
    "tags": []
   },
   "outputs": [
    {
     "data": {
      "text/plain": [
       "{'id': '500',\n",
       " 'name': 'admin',\n",
       " 'primary_group': '513',\n",
       " 'sid': 'S-1-5-21-1210262942-2953763328-3496917156-500',\n",
       " 'uid': '0',\n",
       " 'home_directory': None,\n",
       " 'can_change_password': True,\n",
       " 'privileges': ['PRIVILEGE_AD_READ',\n",
       "  'PRIVILEGE_AD_USE',\n",
       "  'PRIVILEGE_AD_WRITE',\n",
       "  'PRIVILEGE_ANALYTICS_READ',\n",
       "  'PRIVILEGE_AUDIT_READ',\n",
       "  'PRIVILEGE_AUDIT_WRITE',\n",
       "  'PRIVILEGE_AUTH_CACHE_READ',\n",
       "  'PRIVILEGE_AUTH_CACHE_WRITE',\n",
       "  'PRIVILEGE_CLUSTER_READ',\n",
       "  'PRIVILEGE_CLUSTER_WRITE',\n",
       "  'PRIVILEGE_DEBUG',\n",
       "  'PRIVILEGE_DNS_READ',\n",
       "  'PRIVILEGE_DNS_USE',\n",
       "  'PRIVILEGE_DNS_WRITE',\n",
       "  'PRIVILEGE_FILE_FULL_ACCESS',\n",
       "  'PRIVILEGE_FS_ATTRIBUTES_READ',\n",
       "  'PRIVILEGE_FS_DELETE_TREE_READ',\n",
       "  'PRIVILEGE_FS_DELETE_TREE_WRITE',\n",
       "  'PRIVILEGE_FS_LOCK_READ',\n",
       "  'PRIVILEGE_FS_LOCK_WRITE',\n",
       "  'PRIVILEGE_FS_SETTINGS_READ',\n",
       "  'PRIVILEGE_FS_SETTINGS_WRITE',\n",
       "  'PRIVILEGE_FTP_READ',\n",
       "  'PRIVILEGE_FTP_WRITE',\n",
       "  'PRIVILEGE_IDENTITY_MAPPING_READ',\n",
       "  'PRIVILEGE_IDENTITY_MAPPING_WRITE',\n",
       "  'PRIVILEGE_IDENTITY_READ',\n",
       "  'PRIVILEGE_IDENTITY_WRITE',\n",
       "  'PRIVILEGE_KERBEROS_KEYTAB_READ',\n",
       "  'PRIVILEGE_KERBEROS_KEYTAB_WRITE',\n",
       "  'PRIVILEGE_KERBEROS_SETTINGS_READ',\n",
       "  'PRIVILEGE_KERBEROS_SETTINGS_WRITE',\n",
       "  'PRIVILEGE_KV_READ',\n",
       "  'PRIVILEGE_LDAP_READ',\n",
       "  'PRIVILEGE_LDAP_USE',\n",
       "  'PRIVILEGE_LDAP_WRITE',\n",
       "  'PRIVILEGE_LOCAL_GROUP_READ',\n",
       "  'PRIVILEGE_LOCAL_GROUP_WRITE',\n",
       "  'PRIVILEGE_LOCAL_USER_READ',\n",
       "  'PRIVILEGE_LOCAL_USER_WRITE',\n",
       "  'PRIVILEGE_METRICS_READ',\n",
       "  'PRIVILEGE_NETWORK_IP_ALLOCATION_READ',\n",
       "  'PRIVILEGE_NETWORK_READ',\n",
       "  'PRIVILEGE_NETWORK_WRITE',\n",
       "  'PRIVILEGE_NFS_EXPORT_READ',\n",
       "  'PRIVILEGE_NFS_EXPORT_WRITE',\n",
       "  'PRIVILEGE_POWER_CYCLE',\n",
       "  'PRIVILEGE_QUOTA_READ',\n",
       "  'PRIVILEGE_QUOTA_WRITE',\n",
       "  'PRIVILEGE_RECONCILER_READ',\n",
       "  'PRIVILEGE_REPLICATION_REVERSE_RELATIONSHIP',\n",
       "  'PRIVILEGE_REPLICATION_SOURCE_READ',\n",
       "  'PRIVILEGE_REPLICATION_SOURCE_WRITE',\n",
       "  'PRIVILEGE_REPLICATION_TARGET_READ',\n",
       "  'PRIVILEGE_REPLICATION_TARGET_WRITE',\n",
       "  'PRIVILEGE_ROLE_READ',\n",
       "  'PRIVILEGE_ROLE_WRITE',\n",
       "  'PRIVILEGE_SMB_SHARE_READ',\n",
       "  'PRIVILEGE_SMB_SHARE_WRITE',\n",
       "  'PRIVILEGE_SNAPSHOT_CALCULATE_USED_CAPACITY_READ',\n",
       "  'PRIVILEGE_SNAPSHOT_DIFFERENCE_READ',\n",
       "  'PRIVILEGE_SNAPSHOT_POLICY_READ',\n",
       "  'PRIVILEGE_SNAPSHOT_POLICY_WRITE',\n",
       "  'PRIVILEGE_SNAPSHOT_READ',\n",
       "  'PRIVILEGE_SNAPSHOT_WRITE',\n",
       "  'PRIVILEGE_SUPPORT_READ',\n",
       "  'PRIVILEGE_SUPPORT_WRITE',\n",
       "  'PRIVILEGE_TEST_ONLY',\n",
       "  'PRIVILEGE_TIME_READ',\n",
       "  'PRIVILEGE_TIME_WRITE',\n",
       "  'PRIVILEGE_UNCONFIGURED_NODE_READ',\n",
       "  'PRIVILEGE_UPGRADE_READ',\n",
       "  'PRIVILEGE_UPGRADE_WRITE',\n",
       "  'PRIVILEGE_SMB_FILE_HANDLE_READ',\n",
       "  'PRIVILEGE_SMB_FILE_HANDLE_WRITE',\n",
       "  'PRIVILEGE_SMB_SESSION_READ',\n",
       "  'PRIVILEGE_SMB_SESSION_WRITE',\n",
       "  'PRIVILEGE_REPLICATION_OBJECT_READ',\n",
       "  'PRIVILEGE_REPLICATION_OBJECT_WRITE',\n",
       "  'PRIVILEGE_ENCRYPTION_WRITE',\n",
       "  'PRIVILEGE_ENCRYPTION_READ',\n",
       "  'PRIVILEGE_NFS_SETTINGS_READ',\n",
       "  'PRIVILEGE_NFS_SETTINGS_WRITE',\n",
       "  'PRIVILEGE_SERVICE_PUBLIC_KEYS_WRITE',\n",
       "  'PRIVILEGE_SERVICE_PUBLIC_KEYS_READ',\n",
       "  'PRIVILEGE_METRICS_CONFIG_READ',\n",
       "  'PRIVILEGE_METRICS_CONFIG_WRITE',\n",
       "  'PRIVILEGE_REBOOT_USE',\n",
       "  'PRIVILEGE_REBOOT_READ',\n",
       "  'PRIVILEGE_CHECKSUMMING_READ',\n",
       "  'PRIVILEGE_S3_SETTINGS_READ',\n",
       "  'PRIVILEGE_S3_SETTINGS_WRITE',\n",
       "  'PRIVILEGE_WEB_UI_SETTINGS_WRITE',\n",
       "  'PRIVILEGE_S3_CREDENTIALS_READ',\n",
       "  'PRIVILEGE_S3_CREDENTIALS_WRITE',\n",
       "  'PRIVILEGE_TENANT_READ',\n",
       "  'PRIVILEGE_TENANT_WRITE',\n",
       "  'PRIVILEGE_SAML_SETTINGS_READ',\n",
       "  'PRIVILEGE_SAML_SETTINGS_WRITE',\n",
       "  'PRIVILEGE_S3_BUCKETS_READ',\n",
       "  'PRIVILEGE_S3_BUCKETS_WRITE',\n",
       "  'PRIVILEGE_ACCESS_TOKENS_READ',\n",
       "  'PRIVILEGE_ACCESS_TOKENS_WRITE',\n",
       "  'PRIVILEGE_S3_UPLOADS_READ',\n",
       "  'PRIVILEGE_S3_UPLOADS_WRITE'],\n",
       " 'access_token_id': None}"
      ]
     },
     "execution_count": 177,
     "metadata": {},
     "output_type": "execute_result"
    }
   ],
   "source": [
    "rc.auth.who_am_i()"
   ]
  },
  {
   "cell_type": "markdown",
   "id": "49803cfc-5b4e-4bf9-a783-f36e8fded579",
   "metadata": {},
   "source": [
    "# Qumulo Python SDK Class"
   ]
  },
  {
   "cell_type": "code",
   "execution_count": 178,
   "id": "095dd658-bcf8-4efb-8fe5-3cd0fd7b9104",
   "metadata": {
    "tags": []
   },
   "outputs": [
    {
     "name": "stdout",
     "output_type": "stream",
     "text": [
      "\n",
      "--------------------------------------------------------------------------------\n",
      "Area: checksumming.py\n",
      "\n",
      "--------------------------------------------------------------------------------\n",
      "Area: network.py\n",
      "\n",
      "--------------------------------------------------------------------------------\n",
      "Area: node_state.py\n",
      "\n",
      "--------------------------------------------------------------------------------\n",
      "Area: metrics.py\n",
      "\n",
      "--------------------------------------------------------------------------------\n",
      "Area: upgrade_v2.py\n",
      "\n",
      "--------------------------------------------------------------------------------\n",
      "Area: s3.py\n",
      "\n",
      "--------------------------------------------------------------------------------\n",
      "Area: version.py\n",
      "\n",
      "--------------------------------------------------------------------------------\n",
      "Area: ftp.py\n",
      "\n",
      "--------------------------------------------------------------------------------\n",
      "Area: time_config.py\n",
      "\n",
      "--------------------------------------------------------------------------------\n",
      "Area: object_replication.py\n",
      "\n",
      "--------------------------------------------------------------------------------\n",
      "Area: auth.py\n",
      "\n",
      "--------------------------------------------------------------------------------\n",
      "Area: upgrade.py\n",
      "\n",
      "--------------------------------------------------------------------------------\n",
      "Area: ad.py\n",
      "\n",
      "--------------------------------------------------------------------------------\n",
      "Area: tree_delete.py\n",
      "\n",
      "--------------------------------------------------------------------------------\n",
      "Area: smb.py\n",
      "\n",
      "--------------------------------------------------------------------------------\n",
      "Area: analytics.py\n",
      "\n",
      "--------------------------------------------------------------------------------\n",
      "Area: upgrade_v3.py\n",
      "\n",
      "--------------------------------------------------------------------------------\n",
      "Area: quota.py\n",
      "\n",
      "--------------------------------------------------------------------------------\n",
      "Area: cluster.py\n",
      "\n",
      "--------------------------------------------------------------------------------\n",
      "Area: ldap.py\n",
      "\n",
      "--------------------------------------------------------------------------------\n",
      "Area: snapshot.py\n",
      "\n",
      "--------------------------------------------------------------------------------\n",
      "Area: saml.py\n",
      "\n",
      "--------------------------------------------------------------------------------\n",
      "Area: kerberos.py\n",
      "\n",
      "--------------------------------------------------------------------------------\n",
      "Area: groups.py\n",
      "\n",
      "--------------------------------------------------------------------------------\n",
      "Area: roles.py\n",
      "\n",
      "--------------------------------------------------------------------------------\n",
      "Area: support.py\n",
      "\n",
      "--------------------------------------------------------------------------------\n",
      "Area: nfs.py\n",
      "\n",
      "--------------------------------------------------------------------------------\n",
      "Area: audit.py\n",
      "\n",
      "--------------------------------------------------------------------------------\n",
      "Area: multitenancy.py\n",
      "\n",
      "--------------------------------------------------------------------------------\n",
      "Area: shutdown.py\n",
      "\n",
      "--------------------------------------------------------------------------------\n",
      "Area: multitenancy_smb.py\n",
      "\n",
      "--------------------------------------------------------------------------------\n",
      "Area: replication.py\n",
      "\n",
      "--------------------------------------------------------------------------------\n",
      "Area: multitenancy_nfs.py\n",
      "\n",
      "--------------------------------------------------------------------------------\n",
      "Area: access_tokens.py\n",
      "\n",
      "--------------------------------------------------------------------------------\n",
      "Area: encryption.py\n",
      "\n",
      "--------------------------------------------------------------------------------\n",
      "Area: dns.py\n",
      "\n",
      "--------------------------------------------------------------------------------\n",
      "Area: users.py\n",
      "\n",
      "--------------------------------------------------------------------------------\n",
      "Area: fs.py\n",
      "\n",
      "--------------------------------------------------------------------------------\n",
      "Area: web_ui.py\n",
      "\n",
      "--------------------------------------------------------------------------------\n",
      "Area: unconfigured_node_operations.py\n"
     ]
    }
   ],
   "source": [
    "qumulo_lib_path = os.path.dirname(qumulo.__file__) + '/rest'\n",
    "\n",
    "total_matches = 0\n",
    "for f in glob.glob(qumulo_lib_path + '/*.py'):\n",
    "    file_name = os.path.basename(f)\n",
    "    if file_name == '__init__.py':\n",
    "        continue\n",
    "    print(\"\")\n",
    "    print(\"-\"*80)\n",
    "    print(\"Area: %s\" % (file_name, ))\n",
    "    c = open(f, 'r').read()\n",
    "    rx_str = '@request.request[ \\r\\n]+def ([^(]+)\\([ \\r\\n]*conninfo,[ \\r\\n]*credentials([^\\)]*)(.*?)(return|yield)'\n",
    "    ms = re.findall(rx_str, c, re.S|re.M)\n",
    "    for m in ms:\n",
    "        total_matches += 1\n",
    "        func_name = m[0]\n",
    "        \n",
    "        # get arguments\n",
    "        args = []\n",
    "        arg_ms = m[1].split(',')\n",
    "        for arg_m in arg_ms:\n",
    "            if arg_m.strip() != \"\":\n",
    "                args.append(re.sub('=.*', '', arg_m.strip()))\n",
    "\n",
    "        # method\n",
    "        method = \"GET\"\n",
    "        method_m = re.search('method[ ]*=[ ]*\"([A-Z]+)', m[2])\n",
    "        if method_m is not None:\n",
    "            method = method_m.group(1)\n",
    "\n",
    "        # uri, currently more work for fs methods\n",
    "        uri = \"/\"\n",
    "        uri_m = re.search('uri[ ]*=.*?\"([^\"]+)', m[2])\n",
    "        if uri_m is not None:\n",
    "            uri = uri_m.group(1)\n",
    "        uri_m = re.search('uri[ ]*=.*?\\'([^\\']+)', m[2])\n",
    "        if uri_m is not None:\n",
    "            uri = uri_m.group(1)\n",
    "\n",
    "        print(\"   rc.%s.%s(%s)\" % (file_name.replace('.py', ''), \n",
    "                                   func_name, \n",
    "                                   ', '.join(args[:4]) + (' ...' if len(args)>4 else '')))"
   ]
  },
  {
   "cell_type": "code",
   "execution_count": 179,
   "id": "62daf794-24fd-4754-be17-96744ee1de66",
   "metadata": {
    "tags": []
   },
   "outputs": [
    {
     "data": {
      "text/plain": [
       "{'cluster_name': 'qumulo-HD'}"
      ]
     },
     "execution_count": 179,
     "metadata": {},
     "output_type": "execute_result"
    }
   ],
   "source": [
    "rc.cluster.get_cluster_conf()"
   ]
  },
  {
   "cell_type": "markdown",
   "id": "a7742846-9dad-4db4-8e1c-0c0b32dd8a9c",
   "metadata": {},
   "source": [
    "# Quota"
   ]
  },
  {
   "cell_type": "code",
   "execution_count": 180,
   "id": "ddeb65ee-d4d6-4e6e-94b0-f6bc9e59da47",
   "metadata": {
    "tags": []
   },
   "outputs": [
    {
     "data": {
      "text/plain": [
       "<qumulo.rest_client.ETagStripperIterator at 0x7f11b34d44f0>"
      ]
     },
     "execution_count": 180,
     "metadata": {},
     "output_type": "execute_result"
    }
   ],
   "source": [
    "rc.quota.get_all_quotas()"
   ]
  },
  {
   "cell_type": "markdown",
   "id": "a5daf177-3ad8-4a78-8b56-ae46d32d73bf",
   "metadata": {},
   "source": [
    "# NFS "
   ]
  },
  {
   "cell_type": "code",
   "execution_count": 181,
   "id": "4eef601a-985a-4dd6-86dd-70fd82eff594",
   "metadata": {
    "tags": []
   },
   "outputs": [
    {
     "data": {
      "text/plain": [
       "{'v4_enabled': False,\n",
       " 'krb5_enabled': True,\n",
       " 'krb5p_enabled': True,\n",
       " 'krb5i_enabled': True,\n",
       " 'auth_sys_enabled': True}"
      ]
     },
     "execution_count": 181,
     "metadata": {},
     "output_type": "execute_result"
    }
   ],
   "source": [
    "rc.nfs.get_nfs_config()"
   ]
  },
  {
   "cell_type": "markdown",
   "id": "50457180-c088-46d0-828c-a77e627b675a",
   "metadata": {},
   "source": [
    "# S3 Bucket"
   ]
  },
  {
   "cell_type": "code",
   "execution_count": 182,
   "id": "2e5e7681-1857-4091-89a8-f6f81dc67145",
   "metadata": {
    "tags": []
   },
   "outputs": [
    {
     "data": {
      "text/plain": [
       "BucketDescription(name='test10', creation_time='2023-06-17T15:44:55.408408791Z', path='/aip-group/test10', anonymous_access_enabled=False)"
      ]
     },
     "execution_count": 182,
     "metadata": {},
     "output_type": "execute_result"
    }
   ],
   "source": [
    "rc.s3.create_bucket(name='test10',create_path='/home/')"
   ]
  },
  {
   "cell_type": "code",
   "execution_count": 183,
   "id": "e58059ee-1d8f-47d5-85cd-a9aebbb66995",
   "metadata": {
    "tags": []
   },
   "outputs": [
    {
     "name": "stdout",
     "output_type": "stream",
     "text": [
      "BucketDescriptionList(buckets=[BucketDescription(name='test1', creation_time='2023-06-15T12:58:10.714743379Z', path='/csi/volumes1/test1', anonymous_access_enabled=True), BucketDescription(name='test2', creation_time='2023-06-15T14:08:08.191564519Z', path='/aip-group/test2', anonymous_access_enabled=False), BucketDescription(name='test3', creation_time='2023-06-15T14:09:31.899721279Z', path='/aip-group/test3', anonymous_access_enabled=False), BucketDescription(name='test4', creation_time='2023-06-16T03:53:01.149236004Z', path='/aip-group/test4', anonymous_access_enabled=False), BucketDescription(name='test5', creation_time='2023-06-17T13:28:24.771846185Z', path='/aip-group/test5', anonymous_access_enabled=False), BucketDescription(name='test10', creation_time='2023-06-17T15:44:55.408408791Z', path='/aip-group/test10', anonymous_access_enabled=False)])\n"
     ]
    }
   ],
   "source": [
    "s3_buckets = rc.s3.list_buckets()\n",
    "pprint.pprint(s3_buckets)"
   ]
  },
  {
   "cell_type": "code",
   "execution_count": 172,
   "id": "09eef086-d0bf-41ee-9cb0-35d5f16ca13a",
   "metadata": {
    "tags": []
   },
   "outputs": [
    {
     "ename": "RequestError",
     "evalue": "Error 404: http_not_found_error: NoSuchBucket(\"test6\")\nBacktrace:\n    http_error_new_for_rust at protocols/http/errors.c:231\n    v1_s3_bucket_delete at protocols/s3/api/api_impl.c:349\n    _v1_s3_bucket_delete at build/release/protocols/s3/api/api.c:528\n    v1_s3_execute_request at build/release/protocols/s3/api/api.c:924\n    execute_handler at api/api.c:297\n    api_dispatch_uri at api/api.c:349\n    pass_request_to_handler at protocols/http/server.c:477",
     "output_type": "error",
     "traceback": [
      "\u001b[0;31m---------------------------------------------------------------------------\u001b[0m",
      "\u001b[0;31mRequestError\u001b[0m                              Traceback (most recent call last)",
      "Cell \u001b[0;32mIn[172], line 1\u001b[0m\n\u001b[0;32m----> 1\u001b[0m \u001b[43mrc\u001b[49m\u001b[38;5;241;43m.\u001b[39;49m\u001b[43ms3\u001b[49m\u001b[38;5;241;43m.\u001b[39;49m\u001b[43mdelete_bucket\u001b[49m\u001b[43m(\u001b[49m\u001b[43mname\u001b[49m\u001b[38;5;241;43m=\u001b[39;49m\u001b[38;5;124;43m'\u001b[39;49m\u001b[38;5;124;43mtest6\u001b[39;49m\u001b[38;5;124;43m'\u001b[39;49m\u001b[43m,\u001b[49m\u001b[43mdelete_root_dir\u001b[49m\u001b[38;5;241;43m=\u001b[39;49m\u001b[38;5;28;43;01mFalse\u001b[39;49;00m\u001b[43m)\u001b[49m\n",
      "File \u001b[0;32m~/.local/lib/python3.8/site-packages/qumulo/rest/s3.py:257\u001b[0m, in \u001b[0;36mS3.delete_bucket\u001b[0;34m(self, name, delete_root_dir)\u001b[0m\n\u001b[1;32m    256\u001b[0m \u001b[38;5;28;01mdef\u001b[39;00m \u001b[38;5;21mdelete_bucket\u001b[39m(\u001b[38;5;28mself\u001b[39m, name: \u001b[38;5;28mstr\u001b[39m, delete_root_dir: \u001b[38;5;28mbool\u001b[39m) \u001b[38;5;241m-\u001b[39m\u001b[38;5;241m>\u001b[39m \u001b[38;5;28;01mNone\u001b[39;00m:\n\u001b[0;32m--> 257\u001b[0m     response \u001b[38;5;241m=\u001b[39m \u001b[38;5;28;43mself\u001b[39;49m\u001b[38;5;241;43m.\u001b[39;49m\u001b[43mclient\u001b[49m\u001b[38;5;241;43m.\u001b[39;49m\u001b[43msend_request\u001b[49m\u001b[43m(\u001b[49m\n\u001b[1;32m    258\u001b[0m \u001b[43m        \u001b[49m\u001b[38;5;124;43m'\u001b[39;49m\u001b[38;5;124;43mDELETE\u001b[39;49m\u001b[38;5;124;43m'\u001b[39;49m\u001b[43m,\u001b[49m\u001b[43m \u001b[49m\u001b[43mS3_BUCKETS_DELETE_URI\u001b[49m\u001b[38;5;241;43m.\u001b[39;49m\u001b[43mformat\u001b[49m\u001b[43m(\u001b[49m\u001b[43mname\u001b[49m\u001b[43m,\u001b[49m\u001b[43m \u001b[49m\u001b[38;5;28;43mstr\u001b[39;49m\u001b[43m(\u001b[49m\u001b[43mdelete_root_dir\u001b[49m\u001b[43m)\u001b[49m\u001b[38;5;241;43m.\u001b[39;49m\u001b[43mlower\u001b[49m\u001b[43m(\u001b[49m\u001b[43m)\u001b[49m\u001b[43m)\u001b[49m\n\u001b[1;32m    259\u001b[0m \u001b[43m    \u001b[49m\u001b[43m)\u001b[49m\n\u001b[1;32m    260\u001b[0m     \u001b[38;5;28;01massert\u001b[39;00m response\u001b[38;5;241m.\u001b[39metag \u001b[38;5;129;01mis\u001b[39;00m \u001b[38;5;28;01mNone\u001b[39;00m\n\u001b[1;32m    261\u001b[0m     \u001b[38;5;28;01massert\u001b[39;00m response\u001b[38;5;241m.\u001b[39mdata \u001b[38;5;129;01mis\u001b[39;00m \u001b[38;5;28;01mNone\u001b[39;00m\n",
      "File \u001b[0;32m~/.local/lib/python3.8/site-packages/qumulo/lib/request.py:320\u001b[0m, in \u001b[0;36mConnection.send_request\u001b[0;34m(self, method, uri, body, body_file, if_match, request_content_type, response_file, headers, chunked)\u001b[0m\n\u001b[1;32m    305\u001b[0m     rest \u001b[38;5;241m=\u001b[39m APIRequest(\n\u001b[1;32m    306\u001b[0m         conninfo\u001b[38;5;241m=\u001b[39m\u001b[38;5;28mself\u001b[39m,\n\u001b[1;32m    307\u001b[0m         method\u001b[38;5;241m=\u001b[39mmethod,\n\u001b[0;32m   (...)\u001b[0m\n\u001b[1;32m    316\u001b[0m         headers\u001b[38;5;241m=\u001b[39mheaders,\n\u001b[1;32m    317\u001b[0m     )\n\u001b[1;32m    318\u001b[0m     rest\u001b[38;5;241m.\u001b[39msend_request()\n\u001b[0;32m--> 320\u001b[0m     \u001b[43mrest\u001b[49m\u001b[38;5;241;43m.\u001b[39;49m\u001b[43mget_response\u001b[49m\u001b[43m(\u001b[49m\u001b[43m)\u001b[49m\n\u001b[1;32m    321\u001b[0m \u001b[38;5;28;01mexcept\u001b[39;00m (\u001b[38;5;167;01mConnectionError\u001b[39;00m, httplib\u001b[38;5;241m.\u001b[39mIncompleteRead):\n\u001b[1;32m    322\u001b[0m     \u001b[38;5;66;03m# If the connection has received an error, it can no longer be reused. Close it so that\u001b[39;00m\n\u001b[1;32m    323\u001b[0m     \u001b[38;5;66;03m# the next request will open a new connection.\u001b[39;00m\n\u001b[1;32m    324\u001b[0m     \u001b[38;5;28mself\u001b[39m\u001b[38;5;241m.\u001b[39mclose()\n",
      "File \u001b[0;32m~/.local/lib/python3.8/site-packages/qumulo/lib/request.py:576\u001b[0m, in \u001b[0;36mAPIRequest.get_response\u001b[0;34m(self)\u001b[0m\n\u001b[1;32m    574\u001b[0m \u001b[38;5;28;01mif\u001b[39;00m \u001b[38;5;129;01mnot\u001b[39;00m \u001b[38;5;28mself\u001b[39m\u001b[38;5;241m.\u001b[39m_success():\n\u001b[1;32m    575\u001b[0m     json_error \u001b[38;5;241m=\u001b[39m cast(Dict[\u001b[38;5;28mstr\u001b[39m, \u001b[38;5;28mobject\u001b[39m], \u001b[38;5;28mself\u001b[39m\u001b[38;5;241m.\u001b[39mresponse_obj)\n\u001b[0;32m--> 576\u001b[0m     \u001b[38;5;28;01mraise\u001b[39;00m RequestError(\u001b[38;5;28mself\u001b[39m\u001b[38;5;241m.\u001b[39m_status(), \u001b[38;5;28mself\u001b[39m\u001b[38;5;241m.\u001b[39m_reason(), json_error)\n",
      "\u001b[0;31mRequestError\u001b[0m: Error 404: http_not_found_error: NoSuchBucket(\"test6\")\nBacktrace:\n    http_error_new_for_rust at protocols/http/errors.c:231\n    v1_s3_bucket_delete at protocols/s3/api/api_impl.c:349\n    _v1_s3_bucket_delete at build/release/protocols/s3/api/api.c:528\n    v1_s3_execute_request at build/release/protocols/s3/api/api.c:924\n    execute_handler at api/api.c:297\n    api_dispatch_uri at api/api.c:349\n    pass_request_to_handler at protocols/http/server.c:477"
     ]
    }
   ],
   "source": [
    "rc.s3.delete_bucket(name='test6',delete_root_dir=False)"
   ]
  },
  {
   "cell_type": "code",
   "execution_count": 184,
   "id": "f3850fc3-2a36-4b82-827c-a4e643e9e108",
   "metadata": {
    "tags": []
   },
   "outputs": [
    {
     "data": {
      "text/plain": [
       "BucketDescriptionList(buckets=[BucketDescription(name='test1', creation_time='2023-06-15T12:58:10.714743379Z', path='/csi/volumes1/test1', anonymous_access_enabled=True), BucketDescription(name='test2', creation_time='2023-06-15T14:08:08.191564519Z', path='/aip-group/test2', anonymous_access_enabled=False), BucketDescription(name='test3', creation_time='2023-06-15T14:09:31.899721279Z', path='/aip-group/test3', anonymous_access_enabled=False), BucketDescription(name='test4', creation_time='2023-06-16T03:53:01.149236004Z', path='/aip-group/test4', anonymous_access_enabled=False), BucketDescription(name='test5', creation_time='2023-06-17T13:28:24.771846185Z', path='/aip-group/test5', anonymous_access_enabled=False), BucketDescription(name='test10', creation_time='2023-06-17T15:44:55.408408791Z', path='/aip-group/test10', anonymous_access_enabled=False)])"
      ]
     },
     "execution_count": 184,
     "metadata": {},
     "output_type": "execute_result"
    }
   ],
   "source": [
    "rc.s3.list_buckets()"
   ]
  },
  {
   "cell_type": "code",
   "execution_count": 185,
   "id": "0b30f51d-b859-4209-b082-09bd5f141037",
   "metadata": {
    "tags": []
   },
   "outputs": [
    {
     "data": {
      "text/plain": [
       "AccessKeyDescriptionList(entries=[AccessKeyDescription(access_key_id='00000000000001f4427a', owner={'domain': None, 'auth_id': '500', 'uid': None, 'gid': None, 'sid': None, 'name': None}, creation_time='2023-06-17T14:47:02.531301871Z'), AccessKeyDescription(access_key_id='00000000000001f46e81', owner={'domain': None, 'auth_id': '500', 'uid': None, 'gid': None, 'sid': None, 'name': None}, creation_time='2023-06-17T16:08:29.926704974Z')], paging=AccessKeyDescriptionListPaginationToken(next=None))"
      ]
     },
     "execution_count": 185,
     "metadata": {},
     "output_type": "execute_result"
    }
   ],
   "source": [
    "rc.s3.list_access_keys()"
   ]
  },
  {
   "cell_type": "code",
   "execution_count": 162,
   "id": "65ab8af3-3979-4127-b703-6ea67788a897",
   "metadata": {
    "tags": []
   },
   "outputs": [
    {
     "data": {
      "text/plain": [
       "'Bearer session-v1:ssqNZXCXtVrLlzhw4lJv8uNKvWLP907qib7B+Mw0YKYBAAAAeJz7sKU3hQEIJjj2gekvjAxgwMgEpZHYIAAA3CwFVQ=='"
      ]
     },
     "execution_count": 162,
     "metadata": {},
     "output_type": "execute_result"
    }
   ],
   "source": [
    "rc.credentials.auth_header()"
   ]
  },
  {
   "cell_type": "code",
   "execution_count": 165,
   "id": "d130c2b4-482c-43e7-a434-9ac103227a9c",
   "metadata": {
    "tags": []
   },
   "outputs": [
    {
     "data": {
      "text/plain": [
       "{'id': '500',\n",
       " 'name': 'admin',\n",
       " 'primary_group': '513',\n",
       " 'sid': 'S-1-5-21-1210262942-2953763328-3496917156-500',\n",
       " 'uid': '0',\n",
       " 'home_directory': None,\n",
       " 'can_change_password': True,\n",
       " 'privileges': ['PRIVILEGE_AD_READ',\n",
       "  'PRIVILEGE_AD_USE',\n",
       "  'PRIVILEGE_AD_WRITE',\n",
       "  'PRIVILEGE_ANALYTICS_READ',\n",
       "  'PRIVILEGE_AUDIT_READ',\n",
       "  'PRIVILEGE_AUDIT_WRITE',\n",
       "  'PRIVILEGE_AUTH_CACHE_READ',\n",
       "  'PRIVILEGE_AUTH_CACHE_WRITE',\n",
       "  'PRIVILEGE_CLUSTER_READ',\n",
       "  'PRIVILEGE_CLUSTER_WRITE',\n",
       "  'PRIVILEGE_DEBUG',\n",
       "  'PRIVILEGE_DNS_READ',\n",
       "  'PRIVILEGE_DNS_USE',\n",
       "  'PRIVILEGE_DNS_WRITE',\n",
       "  'PRIVILEGE_FILE_FULL_ACCESS',\n",
       "  'PRIVILEGE_FS_ATTRIBUTES_READ',\n",
       "  'PRIVILEGE_FS_DELETE_TREE_READ',\n",
       "  'PRIVILEGE_FS_DELETE_TREE_WRITE',\n",
       "  'PRIVILEGE_FS_LOCK_READ',\n",
       "  'PRIVILEGE_FS_LOCK_WRITE',\n",
       "  'PRIVILEGE_FS_SETTINGS_READ',\n",
       "  'PRIVILEGE_FS_SETTINGS_WRITE',\n",
       "  'PRIVILEGE_FTP_READ',\n",
       "  'PRIVILEGE_FTP_WRITE',\n",
       "  'PRIVILEGE_IDENTITY_MAPPING_READ',\n",
       "  'PRIVILEGE_IDENTITY_MAPPING_WRITE',\n",
       "  'PRIVILEGE_IDENTITY_READ',\n",
       "  'PRIVILEGE_IDENTITY_WRITE',\n",
       "  'PRIVILEGE_KERBEROS_KEYTAB_READ',\n",
       "  'PRIVILEGE_KERBEROS_KEYTAB_WRITE',\n",
       "  'PRIVILEGE_KERBEROS_SETTINGS_READ',\n",
       "  'PRIVILEGE_KERBEROS_SETTINGS_WRITE',\n",
       "  'PRIVILEGE_KV_READ',\n",
       "  'PRIVILEGE_LDAP_READ',\n",
       "  'PRIVILEGE_LDAP_USE',\n",
       "  'PRIVILEGE_LDAP_WRITE',\n",
       "  'PRIVILEGE_LOCAL_GROUP_READ',\n",
       "  'PRIVILEGE_LOCAL_GROUP_WRITE',\n",
       "  'PRIVILEGE_LOCAL_USER_READ',\n",
       "  'PRIVILEGE_LOCAL_USER_WRITE',\n",
       "  'PRIVILEGE_METRICS_READ',\n",
       "  'PRIVILEGE_NETWORK_IP_ALLOCATION_READ',\n",
       "  'PRIVILEGE_NETWORK_READ',\n",
       "  'PRIVILEGE_NETWORK_WRITE',\n",
       "  'PRIVILEGE_NFS_EXPORT_READ',\n",
       "  'PRIVILEGE_NFS_EXPORT_WRITE',\n",
       "  'PRIVILEGE_POWER_CYCLE',\n",
       "  'PRIVILEGE_QUOTA_READ',\n",
       "  'PRIVILEGE_QUOTA_WRITE',\n",
       "  'PRIVILEGE_RECONCILER_READ',\n",
       "  'PRIVILEGE_REPLICATION_REVERSE_RELATIONSHIP',\n",
       "  'PRIVILEGE_REPLICATION_SOURCE_READ',\n",
       "  'PRIVILEGE_REPLICATION_SOURCE_WRITE',\n",
       "  'PRIVILEGE_REPLICATION_TARGET_READ',\n",
       "  'PRIVILEGE_REPLICATION_TARGET_WRITE',\n",
       "  'PRIVILEGE_ROLE_READ',\n",
       "  'PRIVILEGE_ROLE_WRITE',\n",
       "  'PRIVILEGE_SMB_SHARE_READ',\n",
       "  'PRIVILEGE_SMB_SHARE_WRITE',\n",
       "  'PRIVILEGE_SNAPSHOT_CALCULATE_USED_CAPACITY_READ',\n",
       "  'PRIVILEGE_SNAPSHOT_DIFFERENCE_READ',\n",
       "  'PRIVILEGE_SNAPSHOT_POLICY_READ',\n",
       "  'PRIVILEGE_SNAPSHOT_POLICY_WRITE',\n",
       "  'PRIVILEGE_SNAPSHOT_READ',\n",
       "  'PRIVILEGE_SNAPSHOT_WRITE',\n",
       "  'PRIVILEGE_SUPPORT_READ',\n",
       "  'PRIVILEGE_SUPPORT_WRITE',\n",
       "  'PRIVILEGE_TEST_ONLY',\n",
       "  'PRIVILEGE_TIME_READ',\n",
       "  'PRIVILEGE_TIME_WRITE',\n",
       "  'PRIVILEGE_UNCONFIGURED_NODE_READ',\n",
       "  'PRIVILEGE_UPGRADE_READ',\n",
       "  'PRIVILEGE_UPGRADE_WRITE',\n",
       "  'PRIVILEGE_SMB_FILE_HANDLE_READ',\n",
       "  'PRIVILEGE_SMB_FILE_HANDLE_WRITE',\n",
       "  'PRIVILEGE_SMB_SESSION_READ',\n",
       "  'PRIVILEGE_SMB_SESSION_WRITE',\n",
       "  'PRIVILEGE_REPLICATION_OBJECT_READ',\n",
       "  'PRIVILEGE_REPLICATION_OBJECT_WRITE',\n",
       "  'PRIVILEGE_ENCRYPTION_WRITE',\n",
       "  'PRIVILEGE_ENCRYPTION_READ',\n",
       "  'PRIVILEGE_NFS_SETTINGS_READ',\n",
       "  'PRIVILEGE_NFS_SETTINGS_WRITE',\n",
       "  'PRIVILEGE_SERVICE_PUBLIC_KEYS_WRITE',\n",
       "  'PRIVILEGE_SERVICE_PUBLIC_KEYS_READ',\n",
       "  'PRIVILEGE_METRICS_CONFIG_READ',\n",
       "  'PRIVILEGE_METRICS_CONFIG_WRITE',\n",
       "  'PRIVILEGE_REBOOT_USE',\n",
       "  'PRIVILEGE_REBOOT_READ',\n",
       "  'PRIVILEGE_CHECKSUMMING_READ',\n",
       "  'PRIVILEGE_S3_SETTINGS_READ',\n",
       "  'PRIVILEGE_S3_SETTINGS_WRITE',\n",
       "  'PRIVILEGE_WEB_UI_SETTINGS_WRITE',\n",
       "  'PRIVILEGE_S3_CREDENTIALS_READ',\n",
       "  'PRIVILEGE_S3_CREDENTIALS_WRITE',\n",
       "  'PRIVILEGE_TENANT_READ',\n",
       "  'PRIVILEGE_TENANT_WRITE',\n",
       "  'PRIVILEGE_SAML_SETTINGS_READ',\n",
       "  'PRIVILEGE_SAML_SETTINGS_WRITE',\n",
       "  'PRIVILEGE_S3_BUCKETS_READ',\n",
       "  'PRIVILEGE_S3_BUCKETS_WRITE',\n",
       "  'PRIVILEGE_ACCESS_TOKENS_READ',\n",
       "  'PRIVILEGE_ACCESS_TOKENS_WRITE',\n",
       "  'PRIVILEGE_S3_UPLOADS_READ',\n",
       "  'PRIVILEGE_S3_UPLOADS_WRITE'],\n",
       " 'access_token_id': None}"
      ]
     },
     "execution_count": 165,
     "metadata": {},
     "output_type": "execute_result"
    }
   ],
   "source": [
    "rc.auth.who_am_i()"
   ]
  }
 ],
 "metadata": {
  "kernelspec": {
   "display_name": "Python 3 (ipykernel)",
   "language": "python",
   "name": "python3"
  },
  "language_info": {
   "codemirror_mode": {
    "name": "ipython",
    "version": 3
   },
   "file_extension": ".py",
   "mimetype": "text/x-python",
   "name": "python",
   "nbconvert_exporter": "python",
   "pygments_lexer": "ipython3",
   "version": "3.8.10"
  }
 },
 "nbformat": 4,
 "nbformat_minor": 5
}
