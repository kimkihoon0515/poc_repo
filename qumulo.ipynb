{
 "cells": [
  {
   "cell_type": "code",
   "execution_count": 42,
   "id": "37a8d98a-20ec-463f-a714-622bc15b2c95",
   "metadata": {
    "tags": []
   },
   "outputs": [],
   "source": [
    "import qumulo\n",
    "import os\n",
    "import io\n",
    "import glob\n",
    "import re\n",
    "import time\n",
    "from datetime import datetime\n",
    "import dateutil.parser as date_parser\n",
    "from qumulo.rest_client import RestClient"
   ]
  },
  {
   "cell_type": "markdown",
   "id": "6bb11c42-13af-4da9-9196-e477ba76f75f",
   "metadata": {},
   "source": [
    "# Client"
   ]
  },
  {
   "cell_type": "code",
   "execution_count": 25,
   "id": "e7e51248-4b7d-4ea8-b7d2-2cec09971a8b",
   "metadata": {
    "tags": []
   },
   "outputs": [],
   "source": [
    "API_HOSTNAME = os.environ['API_HOSTNAME'] if 'API_HOSTNAME' in os.environ else '10.12.54.21'\n",
    "API_USER = os.environ['API_USER'] if 'API_USER' in os.environ else 'admin'\n",
    "API_PASSWORD = os.environ['API_PASSWORD'] if 'API_PASSWORD' in os.environ else 'P@ssw0rd'"
   ]
  },
  {
   "cell_type": "code",
   "execution_count": 26,
   "id": "c47d6788-a2cc-4530-bcf2-27281ad00b22",
   "metadata": {
    "tags": []
   },
   "outputs": [
    {
     "data": {
      "text/plain": [
       "{'block_size_bytes': 4096,\n",
       " 'total_size_bytes': '77491947438080',\n",
       " 'free_size_bytes': '77489912471552',\n",
       " 'snapshot_size_bytes': '0'}"
      ]
     },
     "execution_count": 26,
     "metadata": {},
     "output_type": "execute_result"
    }
   ],
   "source": [
    "from qumulo.rest_client import RestClient\n",
    "\n",
    "rc = RestClient('10.12.54.21',8000)\n",
    "rc.login('admin','P@ssw0rd')\n",
    "\n",
    "rc.fs.read_fs_stats()"
   ]
  },
  {
   "cell_type": "code",
   "execution_count": 40,
   "id": "51bba228-f306-45a2-b2ed-6ee40b12d0ce",
   "metadata": {
    "tags": []
   },
   "outputs": [
    {
     "name": "stdout",
     "output_type": "stream",
     "text": [
      "{'id': 1, 'node_status': 'online', 'node_name': 'qumulo-HD-1', 'uuid': 'cabeaae8-2d0c-4201-8620-572049b97605', 'label': '88:e9:a4:20:26:ca', 'model_number': 'HPE34T_DL325_G10Plus', 'serial_number': 'SGH139YVBG', 'mac_address': '88:e9:a4:20:26:ca'}\n",
      "{'id': 2, 'node_status': 'online', 'node_name': 'qumulo-HD-2', 'uuid': '77bb97ef-f5ef-4084-a416-741907e68afe', 'label': '88:e9:a4:20:66:ea', 'model_number': 'HPE34T_DL325_G10Plus', 'serial_number': 'SGH139YVBT', 'mac_address': '88:e9:a4:20:66:ea'}\n",
      "{'id': 3, 'node_status': 'online', 'node_name': 'qumulo-HD-3', 'uuid': '58dd5459-c105-4ef0-9737-5a20410763d9', 'label': '88:e9:a4:20:66:72', 'model_number': 'HPE34T_DL325_G10Plus', 'serial_number': 'SGH139YVC5', 'mac_address': '88:e9:a4:20:66:72'}\n",
      "{'id': 4, 'node_status': 'online', 'node_name': 'qumulo-HD-4', 'uuid': 'acedd1b5-1151-4608-9f66-68f7826d4422', 'label': '88:e9:a4:20:36:22', 'model_number': 'HPE34T_DL325_G10Plus', 'serial_number': 'SGH139YVB3', 'mac_address': '88:e9:a4:20:36:22'}\n"
     ]
    }
   ],
   "source": [
    "all_nodes = rc.cluster.list_nodes()\n",
    "for node in all_nodes:\n",
    "    print(node)"
   ]
  },
  {
   "cell_type": "markdown",
   "id": "49803cfc-5b4e-4bf9-a783-f36e8fded579",
   "metadata": {},
   "source": [
    "# Qumulo Python SDK Class"
   ]
  },
  {
   "cell_type": "code",
   "execution_count": 28,
   "id": "095dd658-bcf8-4efb-8fe5-3cd0fd7b9104",
   "metadata": {
    "tags": []
   },
   "outputs": [
    {
     "name": "stdout",
     "output_type": "stream",
     "text": [
      "\n",
      "--------------------------------------------------------------------------------\n",
      "Area: checksumming.py\n",
      "\n",
      "--------------------------------------------------------------------------------\n",
      "Area: network.py\n",
      "\n",
      "--------------------------------------------------------------------------------\n",
      "Area: node_state.py\n",
      "\n",
      "--------------------------------------------------------------------------------\n",
      "Area: metrics.py\n",
      "\n",
      "--------------------------------------------------------------------------------\n",
      "Area: upgrade_v2.py\n",
      "\n",
      "--------------------------------------------------------------------------------\n",
      "Area: s3.py\n",
      "\n",
      "--------------------------------------------------------------------------------\n",
      "Area: version.py\n",
      "\n",
      "--------------------------------------------------------------------------------\n",
      "Area: ftp.py\n",
      "\n",
      "--------------------------------------------------------------------------------\n",
      "Area: time_config.py\n",
      "\n",
      "--------------------------------------------------------------------------------\n",
      "Area: object_replication.py\n",
      "\n",
      "--------------------------------------------------------------------------------\n",
      "Area: auth.py\n",
      "\n",
      "--------------------------------------------------------------------------------\n",
      "Area: upgrade.py\n",
      "\n",
      "--------------------------------------------------------------------------------\n",
      "Area: ad.py\n",
      "\n",
      "--------------------------------------------------------------------------------\n",
      "Area: tree_delete.py\n",
      "\n",
      "--------------------------------------------------------------------------------\n",
      "Area: smb.py\n",
      "\n",
      "--------------------------------------------------------------------------------\n",
      "Area: analytics.py\n",
      "\n",
      "--------------------------------------------------------------------------------\n",
      "Area: upgrade_v3.py\n",
      "\n",
      "--------------------------------------------------------------------------------\n",
      "Area: quota.py\n",
      "\n",
      "--------------------------------------------------------------------------------\n",
      "Area: cluster.py\n",
      "\n",
      "--------------------------------------------------------------------------------\n",
      "Area: ldap.py\n",
      "\n",
      "--------------------------------------------------------------------------------\n",
      "Area: snapshot.py\n",
      "\n",
      "--------------------------------------------------------------------------------\n",
      "Area: saml.py\n",
      "\n",
      "--------------------------------------------------------------------------------\n",
      "Area: kerberos.py\n",
      "\n",
      "--------------------------------------------------------------------------------\n",
      "Area: groups.py\n",
      "\n",
      "--------------------------------------------------------------------------------\n",
      "Area: roles.py\n",
      "\n",
      "--------------------------------------------------------------------------------\n",
      "Area: support.py\n",
      "\n",
      "--------------------------------------------------------------------------------\n",
      "Area: nfs.py\n",
      "\n",
      "--------------------------------------------------------------------------------\n",
      "Area: audit.py\n",
      "\n",
      "--------------------------------------------------------------------------------\n",
      "Area: multitenancy.py\n",
      "\n",
      "--------------------------------------------------------------------------------\n",
      "Area: shutdown.py\n",
      "\n",
      "--------------------------------------------------------------------------------\n",
      "Area: multitenancy_smb.py\n",
      "\n",
      "--------------------------------------------------------------------------------\n",
      "Area: replication.py\n",
      "\n",
      "--------------------------------------------------------------------------------\n",
      "Area: multitenancy_nfs.py\n",
      "\n",
      "--------------------------------------------------------------------------------\n",
      "Area: access_tokens.py\n",
      "\n",
      "--------------------------------------------------------------------------------\n",
      "Area: encryption.py\n",
      "\n",
      "--------------------------------------------------------------------------------\n",
      "Area: dns.py\n",
      "\n",
      "--------------------------------------------------------------------------------\n",
      "Area: users.py\n",
      "\n",
      "--------------------------------------------------------------------------------\n",
      "Area: fs.py\n",
      "\n",
      "--------------------------------------------------------------------------------\n",
      "Area: web_ui.py\n",
      "\n",
      "--------------------------------------------------------------------------------\n",
      "Area: unconfigured_node_operations.py\n"
     ]
    }
   ],
   "source": [
    "qumulo_lib_path = os.path.dirname(qumulo.__file__) + '/rest'\n",
    "\n",
    "total_matches = 0\n",
    "for f in glob.glob(qumulo_lib_path + '/*.py'):\n",
    "    file_name = os.path.basename(f)\n",
    "    if file_name == '__init__.py':\n",
    "        continue\n",
    "    print(\"\")\n",
    "    print(\"-\"*80)\n",
    "    print(\"Area: %s\" % (file_name, ))\n",
    "    c = open(f, 'r').read()\n",
    "    rx_str = '@request.request[ \\r\\n]+def ([^(]+)\\([ \\r\\n]*conninfo,[ \\r\\n]*credentials([^\\)]*)(.*?)(return|yield)'\n",
    "    ms = re.findall(rx_str, c, re.S|re.M)\n",
    "    for m in ms:\n",
    "        total_matches += 1\n",
    "        func_name = m[0]\n",
    "        \n",
    "        # get arguments\n",
    "        args = []\n",
    "        arg_ms = m[1].split(',')\n",
    "        for arg_m in arg_ms:\n",
    "            if arg_m.strip() != \"\":\n",
    "                args.append(re.sub('=.*', '', arg_m.strip()))\n",
    "\n",
    "        # method\n",
    "        method = \"GET\"\n",
    "        method_m = re.search('method[ ]*=[ ]*\"([A-Z]+)', m[2])\n",
    "        if method_m is not None:\n",
    "            method = method_m.group(1)\n",
    "\n",
    "        # uri, currently more work for fs methods\n",
    "        uri = \"/\"\n",
    "        uri_m = re.search('uri[ ]*=.*?\"([^\"]+)', m[2])\n",
    "        if uri_m is not None:\n",
    "            uri = uri_m.group(1)\n",
    "        uri_m = re.search('uri[ ]*=.*?\\'([^\\']+)', m[2])\n",
    "        if uri_m is not None:\n",
    "            uri = uri_m.group(1)\n",
    "\n",
    "        print(\"   rc.%s.%s(%s)\" % (file_name.replace('.py', ''), \n",
    "                                   func_name, \n",
    "                                   ', '.join(args[:4]) + (' ...' if len(args)>4 else '')))"
   ]
  },
  {
   "cell_type": "markdown",
   "id": "a5daf177-3ad8-4a78-8b56-ae46d32d73bf",
   "metadata": {},
   "source": [
    "# NFS "
   ]
  },
  {
   "cell_type": "code",
   "execution_count": 50,
   "id": "4eef601a-985a-4dd6-86dd-70fd82eff594",
   "metadata": {
    "tags": []
   },
   "outputs": [
    {
     "data": {
      "text/plain": [
       "{'v4_enabled': False,\n",
       " 'krb5_enabled': True,\n",
       " 'krb5p_enabled': True,\n",
       " 'krb5i_enabled': True,\n",
       " 'auth_sys_enabled': True}"
      ]
     },
     "execution_count": 50,
     "metadata": {},
     "output_type": "execute_result"
    }
   ],
   "source": [
    "rc.nfs.get_nfs_config()"
   ]
  },
  {
   "cell_type": "markdown",
   "id": "50457180-c088-46d0-828c-a77e627b675a",
   "metadata": {},
   "source": [
    "# S3 Bucket"
   ]
  },
  {
   "cell_type": "code",
   "execution_count": 51,
   "id": "2e5e7681-1857-4091-89a8-f6f81dc67145",
   "metadata": {
    "tags": []
   },
   "outputs": [
    {
     "data": {
      "text/plain": [
       "BucketDescription(name='test1', creation_time='2023-06-15T12:58:10.714743379Z', path='/csi/volumes1/test1', anonymous_access_enabled=False)"
      ]
     },
     "execution_count": 51,
     "metadata": {},
     "output_type": "execute_result"
    }
   ],
   "source": [
    "rc.s3.create_bucket(name='test1',create_path='/home/')"
   ]
  },
  {
   "cell_type": "code",
   "execution_count": 52,
   "id": "e58059ee-1d8f-47d5-85cd-a9aebbb66995",
   "metadata": {
    "tags": []
   },
   "outputs": [
    {
     "data": {
      "text/plain": [
       "BucketDescriptionList(buckets=[BucketDescription(name='test1', creation_time='2023-06-15T12:58:10.714743379Z', path='/csi/volumes1/test1', anonymous_access_enabled=False)])"
      ]
     },
     "execution_count": 52,
     "metadata": {},
     "output_type": "execute_result"
    }
   ],
   "source": [
    "rc.s3.list_buckets()"
   ]
  },
  {
   "cell_type": "code",
   "execution_count": 43,
   "id": "09eef086-d0bf-41ee-9cb0-35d5f16ca13a",
   "metadata": {
    "tags": []
   },
   "outputs": [],
   "source": [
    "rc.s3.delete_bucket(name='test1',delete_root_dir=False)"
   ]
  },
  {
   "cell_type": "code",
   "execution_count": 61,
   "id": "f3850fc3-2a36-4b82-827c-a4e643e9e108",
   "metadata": {
    "tags": []
   },
   "outputs": [
    {
     "data": {
      "text/plain": [
       "BucketDescriptionList(buckets=[BucketDescription(name='test1', creation_time='2023-06-15T12:58:10.714743379Z', path='/csi/volumes1/test1', anonymous_access_enabled=False)])"
      ]
     },
     "execution_count": 61,
     "metadata": {},
     "output_type": "execute_result"
    }
   ],
   "source": [
    "rc.s3.list_buckets()"
   ]
  },
  {
   "cell_type": "code",
   "execution_count": null,
   "id": "d2b7ccda-71c8-4504-be2d-b1fdbc0885a0",
   "metadata": {},
   "outputs": [],
   "source": [
    "rc.s3.list_uploads()"
   ]
  }
 ],
 "metadata": {
  "kernelspec": {
   "display_name": "Python 3 (ipykernel)",
   "language": "python",
   "name": "python3"
  },
  "language_info": {
   "codemirror_mode": {
    "name": "ipython",
    "version": 3
   },
   "file_extension": ".py",
   "mimetype": "text/x-python",
   "name": "python",
   "nbconvert_exporter": "python",
   "pygments_lexer": "ipython3",
   "version": "3.8.10"
  }
 },
 "nbformat": 4,
 "nbformat_minor": 5
}
